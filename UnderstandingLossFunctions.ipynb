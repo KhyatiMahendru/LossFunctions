{
  "nbformat": 4,
  "nbformat_minor": 0,
  "metadata": {
    "colab": {
      "name": "UnderstandingLossFunctions.ipynb",
      "version": "0.3.2",
      "provenance": [],
      "collapsed_sections": [],
      "include_colab_link": true
    },
    "kernelspec": {
      "name": "python3",
      "display_name": "Python 3"
    }
  },
  "cells": [
    {
      "cell_type": "markdown",
      "metadata": {
        "id": "view-in-github",
        "colab_type": "text"
      },
      "source": [
        "<a href=\"https://colab.research.google.com/github/KhyatiMahendru/LossFunctions/blob/master/UnderstandingLossFunctions.ipynb\" target=\"_parent\"><img src=\"https://colab.research.google.com/assets/colab-badge.svg\" alt=\"Open In Colab\"/></a>"
      ]
    },
    {
      "cell_type": "code",
      "metadata": {
        "id": "tun2U_80FMNG",
        "colab_type": "code",
        "colab": {}
      },
      "source": [
        "import numpy as np\n",
        "import pandas as pd\n",
        "import matplotlib.pyplot as plt"
      ],
      "execution_count": 0,
      "outputs": []
    },
    {
      "cell_type": "markdown",
      "metadata": {
        "id": "mxlDaLdyCKRK",
        "colab_type": "text"
      },
      "source": [
        "# Regression Loss"
      ]
    },
    {
      "cell_type": "code",
      "metadata": {
        "id": "Zuo1OW-GH4cd",
        "colab_type": "code",
        "outputId": "2d74b883-d5c9-4860-eae8-6f4ea0a98e4b",
        "colab": {
          "base_uri": "https://localhost:8080/",
          "height": 938
        }
      },
      "source": [
        "from sklearn.datasets import load_boston\n",
        "boston_dataset = load_boston()\n",
        "print(boston_dataset.feature_names)\n",
        "print(boston_dataset.DESCR)"
      ],
      "execution_count": 59,
      "outputs": [
        {
          "output_type": "stream",
          "text": [
            "['CRIM' 'ZN' 'INDUS' 'CHAS' 'NOX' 'RM' 'AGE' 'DIS' 'RAD' 'TAX' 'PTRATIO'\n",
            " 'B' 'LSTAT']\n",
            ".. _boston_dataset:\n",
            "\n",
            "Boston house prices dataset\n",
            "---------------------------\n",
            "\n",
            "**Data Set Characteristics:**  \n",
            "\n",
            "    :Number of Instances: 506 \n",
            "\n",
            "    :Number of Attributes: 13 numeric/categorical predictive. Median Value (attribute 14) is usually the target.\n",
            "\n",
            "    :Attribute Information (in order):\n",
            "        - CRIM     per capita crime rate by town\n",
            "        - ZN       proportion of residential land zoned for lots over 25,000 sq.ft.\n",
            "        - INDUS    proportion of non-retail business acres per town\n",
            "        - CHAS     Charles River dummy variable (= 1 if tract bounds river; 0 otherwise)\n",
            "        - NOX      nitric oxides concentration (parts per 10 million)\n",
            "        - RM       average number of rooms per dwelling\n",
            "        - AGE      proportion of owner-occupied units built prior to 1940\n",
            "        - DIS      weighted distances to five Boston employment centres\n",
            "        - RAD      index of accessibility to radial highways\n",
            "        - TAX      full-value property-tax rate per $10,000\n",
            "        - PTRATIO  pupil-teacher ratio by town\n",
            "        - B        1000(Bk - 0.63)^2 where Bk is the proportion of blacks by town\n",
            "        - LSTAT    % lower status of the population\n",
            "        - MEDV     Median value of owner-occupied homes in $1000's\n",
            "\n",
            "    :Missing Attribute Values: None\n",
            "\n",
            "    :Creator: Harrison, D. and Rubinfeld, D.L.\n",
            "\n",
            "This is a copy of UCI ML housing dataset.\n",
            "https://archive.ics.uci.edu/ml/machine-learning-databases/housing/\n",
            "\n",
            "\n",
            "This dataset was taken from the StatLib library which is maintained at Carnegie Mellon University.\n",
            "\n",
            "The Boston house-price data of Harrison, D. and Rubinfeld, D.L. 'Hedonic\n",
            "prices and the demand for clean air', J. Environ. Economics & Management,\n",
            "vol.5, 81-102, 1978.   Used in Belsley, Kuh & Welsch, 'Regression diagnostics\n",
            "...', Wiley, 1980.   N.B. Various transformations are used in the table on\n",
            "pages 244-261 of the latter.\n",
            "\n",
            "The Boston house-price data has been used in many machine learning papers that address regression\n",
            "problems.   \n",
            "     \n",
            ".. topic:: References\n",
            "\n",
            "   - Belsley, Kuh & Welsch, 'Regression diagnostics: Identifying Influential Data and Sources of Collinearity', Wiley, 1980. 244-261.\n",
            "   - Quinlan,R. (1993). Combining Instance-Based and Model-Based Learning. In Proceedings on the Tenth International Conference of Machine Learning, 236-243, University of Massachusetts, Amherst. Morgan Kaufmann.\n",
            "\n"
          ],
          "name": "stdout"
        }
      ]
    },
    {
      "cell_type": "code",
      "metadata": {
        "id": "m93IC6qEE41y",
        "colab_type": "code",
        "colab": {}
      },
      "source": [
        "data = pd.DataFrame(boston_dataset.data, columns=boston_dataset.feature_names)\n",
        "data['MedianVal'] = boston_dataset.target"
      ],
      "execution_count": 0,
      "outputs": []
    },
    {
      "cell_type": "code",
      "metadata": {
        "id": "OKqZzzyYM-7J",
        "colab_type": "code",
        "outputId": "f7a9c7ee-d158-4dab-8d47-7bf17bfbfe3c",
        "colab": {
          "base_uri": "https://localhost:8080/",
          "height": 85
        }
      },
      "source": [
        "X = data['RM'].as_matrix().reshape(-1, 1)\n",
        "Y = data['MedianVal'].as_matrix().reshape(-1, 1)\n",
        "N = len(X)"
      ],
      "execution_count": 61,
      "outputs": [
        {
          "output_type": "stream",
          "text": [
            "/usr/local/lib/python3.6/dist-packages/ipykernel_launcher.py:1: FutureWarning: Method .as_matrix will be removed in a future version. Use .values instead.\n",
            "  \"\"\"Entry point for launching an IPython kernel.\n",
            "/usr/local/lib/python3.6/dist-packages/ipykernel_launcher.py:2: FutureWarning: Method .as_matrix will be removed in a future version. Use .values instead.\n",
            "  \n"
          ],
          "name": "stderr"
        }
      ]
    },
    {
      "cell_type": "code",
      "metadata": {
        "id": "_23a6GXvNVBJ",
        "colab_type": "code",
        "outputId": "4381a519-edf7-4970-f37a-3e48ae01fee5",
        "colab": {
          "base_uri": "https://localhost:8080/",
          "height": 283
        }
      },
      "source": [
        "plt.scatter(X, Y)\n",
        "plt.xlabel('Average number of rooms')\n",
        "plt.ylabel('Median value of the dwelling')\n",
        "plt.show()"
      ],
      "execution_count": 62,
      "outputs": [
        {
          "output_type": "display_data",
          "data": {
            "image/png": "[encoded data removed]",
            "text/plain": [
              "<Figure size 432x288 with 1 Axes>"
            ]
          },
          "metadata": {
            "tags": []
          }
        }
      ]
    },
    {
      "cell_type": "markdown",
      "metadata": {
        "id": "g2XGXnKWAPav",
        "colab_type": "text"
      },
      "source": [
        "## 1. Mean Square Error Loss"
      ]
    },
    {
      "cell_type": "code",
      "metadata": {
        "id": "-91IX3A1GiMy",
        "colab_type": "code",
        "colab": {}
      },
      "source": [
        "def update_weights_MSE(m, b, X, Y, learning_rate):\n",
        "    m_deriv = 0\n",
        "    b_deriv = 0\n",
        "    N = len(X)\n",
        "    for i in range(N):\n",
        "        # Calculate partial derivatives\n",
        "        # -2x(y - (mx + b))\n",
        "        m_deriv += -2*X[i] * (Y[i] - (m*X[i] + b))\n",
        "\n",
        "        # -2(y - (mx + b))\n",
        "        b_deriv += -2*(Y[i] - (m*X[i] + b))\n",
        "\n",
        "    # We subtract because the derivatives point in direction of steepest ascent\n",
        "    m -= (m_deriv / float(N)) * learning_rate\n",
        "    b -= (b_deriv / float(N)) * learning_rate\n",
        "\n",
        "    return m, b"
      ],
      "execution_count": 0,
      "outputs": []
    },
    {
      "cell_type": "code",
      "metadata": {
        "id": "Rj-Im-csHchM",
        "colab_type": "code",
        "colab": {}
      },
      "source": [
        "# alpha = 0.0001\n",
        "MSEloss1 = []\n",
        "m1 = 0.001\n",
        "b1 = 0\n",
        "learning_rate = 0.0001\n",
        "for iter in range(0, 500):\n",
        "  curr_loss = 0\n",
        "  for i in range(0, N):\n",
        "    curr_loss += (Y[i] - m1 * X[i] - b1) ** 2\n",
        "  curr_loss /= float(N)\n",
        "  MSEloss1.append(curr_loss)\n",
        "  m1, b1 = update_weights_MSE(m1, b1, X, Y, learning_rate)"
      ],
      "execution_count": 0,
      "outputs": []
    },
    {
      "cell_type": "code",
      "metadata": {
        "id": "ewpZWuT3-FJA",
        "colab_type": "code",
        "colab": {}
      },
      "source": [
        "# alpha = 0.001\n",
        "MSEloss2 = []\n",
        "m1 = 0.001\n",
        "b1 = 0\n",
        "learning_rate = 0.001\n",
        "for iter in range(0, 500):\n",
        "  curr_loss = 0\n",
        "  for i in range(0, N):\n",
        "    curr_loss += (Y[i] - m1 * X[i] - b1) ** 2\n",
        "  curr_loss /= float(N)\n",
        "  MSEloss2.append(curr_loss)\n",
        "  m1, b1 = update_weights_MSE(m1, b1, X, Y, learning_rate)"
      ],
      "execution_count": 0,
      "outputs": []
    },
    {
      "cell_type": "code",
      "metadata": {
        "id": "CTcfNaRo-PQA",
        "colab_type": "code",
        "colab": {}
      },
      "source": [
        "# alpha = 0.01\n",
        "MSEloss3 = []\n",
        "m1 = 0.001\n",
        "b1 = 0\n",
        "N = len(X)\n",
        "learning_rate = 0.01\n",
        "for iter in range(0, 500):\n",
        "  curr_loss = 0\n",
        "  for i in range(0, N):\n",
        "    curr_loss += (Y[i] - m1 * X[i] - b1) ** 2\n",
        "  curr_loss /= float(N)\n",
        "  MSEloss3.append(curr_loss)\n",
        "  m1, b1 = update_weights_MSE(m1, b1, X, Y, learning_rate)"
      ],
      "execution_count": 0,
      "outputs": []
    },
    {
      "cell_type": "code",
      "metadata": {
        "id": "hMSIfVZB-hGh",
        "colab_type": "code",
        "outputId": "987ebace-bf73-4528-d5c3-3c10b56c3b72",
        "colab": {
          "base_uri": "https://localhost:8080/",
          "height": 283
        }
      },
      "source": [
        "index = range(500)\n",
        "plt.plot(index, MSEloss1, label = 'alpha = 0.0001')\n",
        "plt.plot(index, MSEloss2, label = 'alpha = 0.001')\n",
        "plt.plot(index, MSEloss3, label = 'alpha = 0.01')\n",
        "plt.xlabel('Iteration')\n",
        "plt.ylabel('Cost - MSE')\n",
        "plt.legend(loc = 'best')\n",
        "plt.legend()\n",
        "plt.show()"
      ],
      "execution_count": 67,
      "outputs": [
        {
          "output_type": "display_data",
          "data": {
            "image/png": "[encoded data removed]",
            "text/plain": [
              "<Figure size 432x288 with 1 Axes>"
            ]
          },
          "metadata": {
            "tags": []
          }
        }
      ]
    },
    {
      "cell_type": "markdown",
      "metadata": {
        "id": "TvOeHlfgBa1Q",
        "colab_type": "text"
      },
      "source": [
        "## 2. Mean Absolute Error Loss"
      ]
    },
    {
      "cell_type": "code",
      "metadata": {
        "id": "XskB1bjLPBYC",
        "colab_type": "code",
        "colab": {}
      },
      "source": [
        "def update_weights_MAE(m, b, X, Y, learning_rate):\n",
        "    m_deriv = 0\n",
        "    b_deriv = 0\n",
        "    N = len(X)\n",
        "    for i in range(N):\n",
        "        # Calculate partial derivatives\n",
        "        # -x(y - (mx + b)) / |mx + b|\n",
        "        m_deriv += - X[i] * (Y[i] - (m*X[i] + b)) / abs(Y[i] - (m*X[i] + b))\n",
        "\n",
        "        # -(y - (mx + b)) / |mx + b|\n",
        "        b_deriv += -(Y[i] - (m*X[i] + b)) / abs(Y[i] - (m*X[i] + b))\n",
        "\n",
        "    # We subtract because the derivatives point in direction of steepest ascent\n",
        "    m -= (m_deriv / float(N)) * learning_rate\n",
        "    b -= (b_deriv / float(N)) * learning_rate\n",
        "\n",
        "    return m, b"
      ],
      "execution_count": 0,
      "outputs": []
    },
    {
      "cell_type": "code",
      "metadata": {
        "id": "Cz4CnZ2kN65-",
        "colab_type": "code",
        "colab": {}
      },
      "source": [
        "# alpha = 0.0001\n",
        "MAEloss1 = []\n",
        "m2 = 0.001\n",
        "b2 = 0\n",
        "learning_rate = 0.0001\n",
        "for iter in range(0, 500):\n",
        "  curr_loss = 0\n",
        "  for i in range(0, N):\n",
        "    curr_loss += abs(Y[i] - m2 * X[i] - b2)\n",
        "  curr_loss /= float(N)\n",
        "  MAEloss1.append(curr_loss)\n",
        "  m2, b2 = update_weights_MAE(m2, b2, X, Y, learning_rate)"
      ],
      "execution_count": 0,
      "outputs": []
    },
    {
      "cell_type": "code",
      "metadata": {
        "id": "Dvb71UjtJECa",
        "colab_type": "code",
        "colab": {}
      },
      "source": [
        "# alpha = 0.001\n",
        "MAEloss2 = []\n",
        "m2 = 0.001\n",
        "b2 = 0\n",
        "learning_rate = 0.001\n",
        "for iter in range(0, 500):\n",
        "  curr_loss = 0\n",
        "  for i in range(0, N):\n",
        "    curr_loss += abs(Y[i] - m2 * X[i] - b2)\n",
        "  curr_loss /= float(N)\n",
        "  MAEloss2.append(curr_loss)\n",
        "  m2, b2 = update_weights_MAE(m2, b2, X, Y, learning_rate)"
      ],
      "execution_count": 0,
      "outputs": []
    },
    {
      "cell_type": "code",
      "metadata": {
        "id": "AMaagxURJIkL",
        "colab_type": "code",
        "colab": {}
      },
      "source": [
        "# alpha = 0.01\n",
        "MAEloss3 = []\n",
        "m2 = 0.001\n",
        "b2 = 0\n",
        "learning_rate = 0.01\n",
        "for iter in range(0, 500):\n",
        "  curr_loss = 0\n",
        "  for i in range(0, N):\n",
        "    curr_loss += abs(Y[i] - m2 * X[i] - b2)\n",
        "  curr_loss /= float(N)\n",
        "  MAEloss3.append(curr_loss)\n",
        "  m2, b2 = update_weights_MAE(m2, b2, X, Y, learning_rate)"
      ],
      "execution_count": 0,
      "outputs": []
    },
    {
      "cell_type": "code",
      "metadata": {
        "id": "_7bDU79MJtL9",
        "colab_type": "code",
        "outputId": "5fd32318-16a9-4979-cd01-f4e9d2fdffe1",
        "colab": {
          "base_uri": "https://localhost:8080/",
          "height": 283
        }
      },
      "source": [
        "index = range(500)\n",
        "plt.plot(index, MAEloss1, label = 'alpha = 0.0001')\n",
        "plt.plot(index, MAEloss2, label = 'alpha = 0.001')\n",
        "plt.plot(index, MAEloss3, label = 'alpha = 0.01')\n",
        "plt.xlabel('Iteration')\n",
        "plt.ylabel('Cost - MAE')\n",
        "plt.legend(loc = 'best')\n",
        "plt.legend()\n",
        "plt.show()"
      ],
      "execution_count": 72,
      "outputs": [
        {
          "output_type": "display_data",
          "data": {
            "image/png": "[encoded data removed]",
            "text/plain": [
              "<Figure size 432x288 with 1 Axes>"
            ]
          },
          "metadata": {
            "tags": []
          }
        }
      ]
    },
    {
      "cell_type": "markdown",
      "metadata": {
        "id": "24SaWzUPBvKL",
        "colab_type": "text"
      },
      "source": [
        "## 3. Huber Loss"
      ]
    },
    {
      "cell_type": "code",
      "metadata": {
        "id": "VrtWX_E_T96j",
        "colab_type": "code",
        "colab": {}
      },
      "source": [
        "def update_weights_Huber(m, b, X, Y, delta, learning_rate):\n",
        "    m_deriv = 0\n",
        "    b_deriv = 0\n",
        "    N = len(X)\n",
        "    for i in range(N):\n",
        "        # derivative of quadratic for small values and of linear for large values\n",
        "        if abs(Y[i] - m*X[i] - b) <= delta:\n",
        "          m_deriv += -X[i] * (Y[i] - (m*X[i] + b))\n",
        "          b_deriv += - (Y[i] - (m*X[i] + b))\n",
        "        else:\n",
        "          m_deriv += delta * X[i] * ((m*X[i] + b) - Y[i]) / abs((m*X[i] + b) - Y[i])\n",
        "          b_deriv += delta * ((m*X[i] + b) - Y[i]) / abs((m*X[i] + b) - Y[i])\n",
        "    \n",
        "    # We subtract because the derivatives point in direction of steepest ascent\n",
        "    m -= (m_deriv / float(N)) * learning_rate\n",
        "    b -= (b_deriv / float(N)) * learning_rate\n",
        "\n",
        "    return m, b"
      ],
      "execution_count": 0,
      "outputs": []
    },
    {
      "cell_type": "code",
      "metadata": {
        "id": "vQa4Rro0VLcP",
        "colab_type": "code",
        "colab": {}
      },
      "source": [
        "# delta = 20\n",
        "Huberloss1 = []\n",
        "m3 = 0.001\n",
        "b3 = 0\n",
        "learning_rate = 0.0001\n",
        "delta = 20\n",
        "for iter in range(0, 500):\n",
        "  curr_loss = 0\n",
        "  for i in range(0, N):\n",
        "    if abs(Y[i] - m3*X[i] - b3) <= delta:\n",
        "      curr_loss += ((Y[i] - m3 * X[i] - b3) ** 2) / 2\n",
        "    else:\n",
        "      curr_loss += delta * abs(Y[i] - m3 * X[i] - b3) - (delta ** 2) / N\n",
        "  curr_loss /= float(N)\n",
        "  Huberloss1.append(curr_loss)\n",
        "  m3, b3 = update_weights_Huber(m3, b3, X, Y, delta, learning_rate)"
      ],
      "execution_count": 0,
      "outputs": []
    },
    {
      "cell_type": "code",
      "metadata": {
        "id": "J1RVd6VcS_2l",
        "colab_type": "code",
        "colab": {}
      },
      "source": [
        "# delta = 10\n",
        "Huberloss2 = []\n",
        "m3 = 0.001\n",
        "b3 = 0\n",
        "learning_rate = 0.0001\n",
        "delta = 10\n",
        "for iter in range(0, 500):\n",
        "  curr_loss = 0\n",
        "  for i in range(0, N):\n",
        "    if abs(Y[i] - m3*X[i] - b3) <= delta:\n",
        "      curr_loss += ((Y[i] - m3 * X[i] - b3) ** 2) / 2\n",
        "    else:\n",
        "      curr_loss += delta * abs(Y[i] - m3 * X[i] - b3) - (delta ** 2) / N\n",
        "  curr_loss /= float(N)\n",
        "  Huberloss2.append(curr_loss)\n",
        "  m3, b3 = update_weights_Huber(m3, b3, X, Y, delta, learning_rate)"
      ],
      "execution_count": 0,
      "outputs": []
    },
    {
      "cell_type": "code",
      "metadata": {
        "id": "dKmZYK_qTGfK",
        "colab_type": "code",
        "colab": {}
      },
      "source": [
        "# delta = 5\n",
        "Huberloss3 = []\n",
        "m3 = 0.001\n",
        "b3 = 0\n",
        "learning_rate = 0.0001\n",
        "delta = 5\n",
        "for iter in range(0, 500):\n",
        "  curr_loss = 0\n",
        "  for i in range(0, N):\n",
        "    if abs(Y[i] - m3*X[i] - b3) <= delta:\n",
        "      curr_loss += ((Y[i] - m3 * X[i] - b3) ** 2) / 2\n",
        "    else:\n",
        "      curr_loss += delta * abs(Y[i] - m3 * X[i] - b3) - (delta ** 2) / N\n",
        "  curr_loss /= float(N)\n",
        "  Huberloss3.append(curr_loss)\n",
        "  m3, b3 = update_weights_Huber(m3, b3, X, Y, delta, learning_rate)"
      ],
      "execution_count": 0,
      "outputs": []
    },
    {
      "cell_type": "code",
      "metadata": {
        "id": "_vD7jVCmTS7q",
        "colab_type": "code",
        "outputId": "9b70eee5-b0f5-4d4f-bd56-986cdaa4192d",
        "colab": {
          "base_uri": "https://localhost:8080/",
          "height": 283
        }
      },
      "source": [
        "index = range(500)\n",
        "plt.plot(index, Huberloss1, label = 'delta = 20')\n",
        "plt.plot(index, Huberloss2, label = 'delta = 10')\n",
        "plt.plot(index, Huberloss3, label = 'delta = 5')\n",
        "plt.xlabel('Iteration')\n",
        "plt.ylabel('Cost - Huber')\n",
        "plt.legend(loc = 'best')\n",
        "plt.legend()\n",
        "plt.show()"
      ],
      "execution_count": 77,
      "outputs": [
        {
          "output_type": "display_data",
          "data": {
            "image/png": "[encoded data removed]",
            "text/plain": [
              "<Figure size 432x288 with 1 Axes>"
            ]
          },
          "metadata": {
            "tags": []
          }
        }
      ]
    },
    {
      "cell_type": "markdown",
      "metadata": {
        "id": "9kvShDjxCOZ8",
        "colab_type": "text"
      },
      "source": [
        "## Binary Classification Loss"
      ]
    },
    {
      "cell_type": "code",
      "metadata": {
        "id": "qFnPy0RqCTjd",
        "colab_type": "code",
        "outputId": "1012e91a-f9f3-489e-8d10-8f09b3469da5",
        "colab": {
          "base_uri": "https://localhost:8080/",
          "height": 2176
        }
      },
      "source": [
        "from sklearn.datasets import load_breast_cancer\n",
        "cancer_dataset = load_breast_cancer()\n",
        "print(cancer_dataset.feature_names)\n",
        "print(cancer_dataset.DESCR)"
      ],
      "execution_count": 78,
      "outputs": [
        {
          "output_type": "stream",
          "text": [
            "['mean radius' 'mean texture' 'mean perimeter' 'mean area'\n",
            " 'mean smoothness' 'mean compactness' 'mean concavity'\n",
            " 'mean concave points' 'mean symmetry' 'mean fractal dimension'\n",
            " 'radius error' 'texture error' 'perimeter error' 'area error'\n",
            " 'smoothness error' 'compactness error' 'concavity error'\n",
            " 'concave points error' 'symmetry error' 'fractal dimension error'\n",
            " 'worst radius' 'worst texture' 'worst perimeter' 'worst area'\n",
            " 'worst smoothness' 'worst compactness' 'worst concavity'\n",
            " 'worst concave points' 'worst symmetry' 'worst fractal dimension']\n",
            ".. _breast_cancer_dataset:\n",
            "\n",
            "Breast cancer wisconsin (diagnostic) dataset\n",
            "--------------------------------------------\n",
            "\n",
            "**Data Set Characteristics:**\n",
            "\n",
            "    :Number of Instances: 569\n",
            "\n",
            "    :Number of Attributes: 30 numeric, predictive attributes and the class\n",
            "\n",
            "    :Attribute Information:\n",
            "        - radius (mean of distances from center to points on the perimeter)\n",
            "        - texture (standard deviation of gray-scale values)\n",
            "        - perimeter\n",
            "        - area\n",
            "        - smoothness (local variation in radius lengths)\n",
            "        - compactness (perimeter^2 / area - 1.0)\n",
            "        - concavity (severity of concave portions of the contour)\n",
            "        - concave points (number of concave portions of the contour)\n",
            "        - symmetry \n",
            "        - fractal dimension (\"coastline approximation\" - 1)\n",
            "\n",
            "        The mean, standard error, and \"worst\" or largest (mean of the three\n",
            "        largest values) of these features were computed for each image,\n",
            "        resulting in 30 features.  For instance, field 3 is Mean Radius, field\n",
            "        13 is Radius SE, field 23 is Worst Radius.\n",
            "\n",
            "        - class:\n",
            "                - WDBC-Malignant\n",
            "                - WDBC-Benign\n",
            "\n",
            "    :Summary Statistics:\n",
            "\n",
            "    ===================================== ====== ======\n",
            "                                           Min    Max\n",
            "    ===================================== ====== ======\n",
            "    radius (mean):                        6.981  28.11\n",
            "    texture (mean):                       9.71   39.28\n",
            "    perimeter (mean):                     43.79  188.5\n",
            "    area (mean):                          143.5  2501.0\n",
            "    smoothness (mean):                    0.053  0.163\n",
            "    compactness (mean):                   0.019  0.345\n",
            "    concavity (mean):                     0.0    0.427\n",
            "    concave points (mean):                0.0    0.201\n",
            "    symmetry (mean):                      0.106  0.304\n",
            "    fractal dimension (mean):             0.05   0.097\n",
            "    radius (standard error):              0.112  2.873\n",
            "    texture (standard error):             0.36   4.885\n",
            "    perimeter (standard error):           0.757  21.98\n",
            "    area (standard error):                6.802  542.2\n",
            "    smoothness (standard error):          0.002  0.031\n",
            "    compactness (standard error):         0.002  0.135\n",
            "    concavity (standard error):           0.0    0.396\n",
            "    concave points (standard error):      0.0    0.053\n",
            "    symmetry (standard error):            0.008  0.079\n",
            "    fractal dimension (standard error):   0.001  0.03\n",
            "    radius (worst):                       7.93   36.04\n",
            "    texture (worst):                      12.02  49.54\n",
            "    perimeter (worst):                    50.41  251.2\n",
            "    area (worst):                         185.2  4254.0\n",
            "    smoothness (worst):                   0.071  0.223\n",
            "    compactness (worst):                  0.027  1.058\n",
            "    concavity (worst):                    0.0    1.252\n",
            "    concave points (worst):               0.0    0.291\n",
            "    symmetry (worst):                     0.156  0.664\n",
            "    fractal dimension (worst):            0.055  0.208\n",
            "    ===================================== ====== ======\n",
            "\n",
            "    :Missing Attribute Values: None\n",
            "\n",
            "    :Class Distribution: 212 - Malignant, 357 - Benign\n",
            "\n",
            "    :Creator:  Dr. William H. Wolberg, W. Nick Street, Olvi L. Mangasarian\n",
            "\n",
            "    :Donor: Nick Street\n",
            "\n",
            "    :Date: November, 1995\n",
            "\n",
            "This is a copy of UCI ML Breast Cancer Wisconsin (Diagnostic) datasets.\n",
            "https://goo.gl/U2Uwz2\n",
            "\n",
            "Features are computed from a digitized image of a fine needle\n",
            "aspirate (FNA) of a breast mass.  They describe\n",
            "characteristics of the cell nuclei present in the image.\n",
            "\n",
            "Separating plane described above was obtained using\n",
            "Multisurface Method-Tree (MSM-T) [K. P. Bennett, \"Decision Tree\n",
            "Construction Via Linear Programming.\" Proceedings of the 4th\n",
            "Midwest Artificial Intelligence and Cognitive Science Society,\n",
            "pp. 97-101, 1992], a classification method which uses linear\n",
            "programming to construct a decision tree.  Relevant features\n",
            "were selected using an exhaustive search in the space of 1-4\n",
            "features and 1-3 separating planes.\n",
            "\n",
            "The actual linear program used to obtain the separating plane\n",
            "in the 3-dimensional space is that described in:\n",
            "[K. P. Bennett and O. L. Mangasarian: \"Robust Linear\n",
            "Programming Discrimination of Two Linearly Inseparable Sets\",\n",
            "Optimization Methods and Software 1, 1992, 23-34].\n",
            "\n",
            "This database is also available through the UW CS ftp server:\n",
            "\n",
            "ftp ftp.cs.wisc.edu\n",
            "cd math-prog/cpo-dataset/machine-learn/WDBC/\n",
            "\n",
            ".. topic:: References\n",
            "\n",
            "   - W.N. Street, W.H. Wolberg and O.L. Mangasarian. Nuclear feature extraction \n",
            "     for breast tumor diagnosis. IS&T/SPIE 1993 International Symposium on \n",
            "     Electronic Imaging: Science and Technology, volume 1905, pages 861-870,\n",
            "     San Jose, CA, 1993.\n",
            "   - O.L. Mangasarian, W.N. Street and W.H. Wolberg. Breast cancer diagnosis and \n",
            "     prognosis via linear programming. Operations Research, 43(4), pages 570-577, \n",
            "     July-August 1995.\n",
            "   - W.H. Wolberg, W.N. Street, and O.L. Mangasarian. Machine learning techniques\n",
            "     to diagnose breast cancer from fine-needle aspirates. Cancer Letters 77 (1994) \n",
            "     163-171.\n"
          ],
          "name": "stdout"
        }
      ]
    },
    {
      "cell_type": "code",
      "metadata": {
        "id": "g4NnbPlX1NMr",
        "colab_type": "code",
        "outputId": "2b109b88-c1f5-47ba-eb46-acd9b599ba56",
        "colab": {
          "base_uri": "https://localhost:8080/",
          "height": 34
        }
      },
      "source": [
        "print(cancer_dataset.target_names)"
      ],
      "execution_count": 79,
      "outputs": [
        {
          "output_type": "stream",
          "text": [
            "['malignant' 'benign']\n"
          ],
          "name": "stdout"
        }
      ]
    },
    {
      "cell_type": "markdown",
      "metadata": {
        "id": "WeXNwo9YJbXj",
        "colab_type": "text"
      },
      "source": [
        "Class 0 - Malignant, Class 1 - Benign"
      ]
    },
    {
      "cell_type": "code",
      "metadata": {
        "id": "_iovG-sxErYk",
        "colab_type": "code",
        "outputId": "299a901e-1e1d-4c13-fc1e-01edac2f434f",
        "colab": {
          "base_uri": "https://localhost:8080/",
          "height": 170
        }
      },
      "source": [
        "data1 = pd.DataFrame(cancer_dataset.data, columns=cancer_dataset.feature_names)\n",
        "data1['Class'] = cancer_dataset.target\n",
        "print(cancer_dataset.target_names)\n",
        "print(data1.head())"
      ],
      "execution_count": 80,
      "outputs": [
        {
          "output_type": "stream",
          "text": [
            "['malignant' 'benign']\n",
            "   mean radius  mean texture  ...  worst fractal dimension  Class\n",
            "0        17.99         10.38  ...                  0.11890      0\n",
            "1        20.57         17.77  ...                  0.08902      0\n",
            "2        19.69         21.25  ...                  0.08758      0\n",
            "3        11.42         20.38  ...                  0.17300      0\n",
            "4        20.29         14.34  ...                  0.07678      0\n",
            "\n",
            "[5 rows x 31 columns]\n"
          ],
          "name": "stdout"
        }
      ]
    },
    {
      "cell_type": "code",
      "metadata": {
        "id": "ovwXWb8ftN_x",
        "colab_type": "code",
        "outputId": "c19fbbc0-097c-4539-eefe-067c6a7c3e25",
        "colab": {
          "base_uri": "https://localhost:8080/",
          "height": 283
        }
      },
      "source": [
        "plt.scatter(data1['worst area'], data1['mean symmetry'], c = data1['Class'])\n",
        "malignant = plt.scatter(data1[data1['Class'] == 0]['worst area'], data1[data1['Class'] == 0]['mean symmetry'], color = 'purple')\n",
        "benign = plt.scatter(data1[data1['Class'] == 1]['worst area'], data1[data1['Class'] == 1]['mean symmetry'], color = 'yellow')\n",
        "plt.legend((malignant, benign),\n",
        "           ('Malignant', 'Benign'),\n",
        "           scatterpoints=1,\n",
        "           loc='best',\n",
        "           )\n",
        "plt.xlabel('Worst area')\n",
        "plt.ylabel('Mean Symmetry')\n",
        "plt.show()"
      ],
      "execution_count": 81,
      "outputs": [
        {
          "output_type": "display_data",
          "data": {
            "image/png": "[encoded data removed]",
            "text/plain": [
              "<Figure size 432x288 with 1 Axes>"
            ]
          },
          "metadata": {
            "tags": []
          }
        }
      ]
    },
    {
      "cell_type": "code",
      "metadata": {
        "id": "fmpXdoDMC0W3",
        "colab_type": "code",
        "outputId": "4ffcf87a-fdc9-4d64-d002-94cdd388ca1c",
        "colab": {
          "base_uri": "https://localhost:8080/",
          "height": 119
        }
      },
      "source": [
        "X1 = data1['worst area'].as_matrix().reshape(-1, 1)\n",
        "X2 = data1['mean symmetry'].as_matrix().reshape(-1, 1)\n",
        "Y = data1['Class'].as_matrix().reshape(-1, 1)\n",
        "N1 = len(X1)\n",
        "import math"
      ],
      "execution_count": 82,
      "outputs": [
        {
          "output_type": "stream",
          "text": [
            "/usr/local/lib/python3.6/dist-packages/ipykernel_launcher.py:1: FutureWarning: Method .as_matrix will be removed in a future version. Use .values instead.\n",
            "  \"\"\"Entry point for launching an IPython kernel.\n",
            "/usr/local/lib/python3.6/dist-packages/ipykernel_launcher.py:2: FutureWarning: Method .as_matrix will be removed in a future version. Use .values instead.\n",
            "  \n",
            "/usr/local/lib/python3.6/dist-packages/ipykernel_launcher.py:3: FutureWarning: Method .as_matrix will be removed in a future version. Use .values instead.\n",
            "  This is separate from the ipykernel package so we can avoid doing imports until\n"
          ],
          "name": "stderr"
        }
      ]
    },
    {
      "cell_type": "code",
      "metadata": {
        "id": "PmBgipBFHJvH",
        "colab_type": "code",
        "colab": {}
      },
      "source": [
        "# We scale the values because otherwise the parameters will be very small\n",
        "from sklearn.preprocessing import MinMaxScaler\n",
        "scaler = MinMaxScaler()\n",
        "X1 = scaler.fit_transform(X1)\n",
        "X2 = scaler.fit_transform(X2)"
      ],
      "execution_count": 0,
      "outputs": []
    },
    {
      "cell_type": "markdown",
      "metadata": {
        "id": "j-cPYq4fDasX",
        "colab_type": "text"
      },
      "source": [
        "## 1. Binary Cross-Entropy Loss"
      ]
    },
    {
      "cell_type": "code",
      "metadata": {
        "id": "wG484GRJM4Fz",
        "colab_type": "code",
        "colab": {}
      },
      "source": [
        "def update_weights_BCE(m1, m2, b, X1, X2, Y, learning_rate):\n",
        "    m1_deriv = 0\n",
        "    m2_deriv = 0\n",
        "    b_deriv = 0\n",
        "    N = len(X1)\n",
        "    for i in range(N):\n",
        "        s = 1 / (1 / (1 + math.exp(-m1*X1[i] - m2*X2[i] - b)))\n",
        "        \n",
        "        # Calculate partial derivatives\n",
        "        m1_deriv += -X1[i] * (s - Y[i])\n",
        "        m2_deriv += -X2[i] * (s - Y[i])\n",
        "        b_deriv += -(s - Y[i])\n",
        "\n",
        "    # We subtract because the derivatives point in direction of steepest ascent\n",
        "    m1 -= (m1_deriv / float(N)) * learning_rate\n",
        "    m2 -= (m2_deriv / float(N)) * learning_rate\n",
        "    b -= (b_deriv / float(N)) * learning_rate\n",
        "\n",
        "    return m1, m2, b"
      ],
      "execution_count": 0,
      "outputs": []
    },
    {
      "cell_type": "code",
      "metadata": {
        "id": "PxFzrwHvJp_q",
        "colab_type": "code",
        "colab": {}
      },
      "source": [
        "# alpha = 0.00001\n",
        "BCEloss1 = []\n",
        "m4_1 = -2.5\n",
        "m4_2 = -1.4\n",
        "b4 = -5.6\n",
        "learning_rate = 0.00001\n",
        "for iter in range(0, 1000):\n",
        "  curr_loss = 0\n",
        "  for i in range(0, N1):\n",
        "    p = 1 / (1 + math.exp(- m4_1*X1[i] - m4_2*X2[i] - b4))\n",
        "    if Y[i] == 0:\n",
        "      curr_loss += -math.log(1 - p)\n",
        "    else:\n",
        "      curr_loss += -math.log(p)\n",
        "  curr_loss /= float(N1)\n",
        "  BCEloss1.append(curr_loss)\n",
        "  m4_1, m4_2, b4 = update_weights_BCE(m4_1, m4_2, b4, X1, X2, Y, learning_rate)"
      ],
      "execution_count": 0,
      "outputs": []
    },
    {
      "cell_type": "code",
      "metadata": {
        "id": "CCrtqxt7Qacv",
        "colab_type": "code",
        "colab": {}
      },
      "source": [
        "# alpha = 0.0001\n",
        "BCEloss2 = []\n",
        "m4_1 = -2.5\n",
        "m4_2 = -1.4\n",
        "b4 = -5.6\n",
        "learning_rate = 0.0001\n",
        "for iter in range(0, 1000):\n",
        "  curr_loss = 0\n",
        "  for i in range(0, N1):\n",
        "    p = 1 / (1 + math.exp(- m4_1*X1[i] - m4_2*X2[i] - b4))\n",
        "    if Y[i] == 0:\n",
        "      curr_loss += -math.log(1 - p)\n",
        "    else:\n",
        "      curr_loss += -math.log(p)\n",
        "  curr_loss /= float(N1)\n",
        "  BCEloss2.append(curr_loss)\n",
        "  m4_1, m4_2, b4 = update_weights_BCE(m4_1, m4_2, b4, X1, X2, Y, learning_rate)"
      ],
      "execution_count": 0,
      "outputs": []
    },
    {
      "cell_type": "code",
      "metadata": {
        "id": "dad12H-lQhGP",
        "colab_type": "code",
        "colab": {}
      },
      "source": [
        "# alpha = 0.001\n",
        "BCEloss3 = []\n",
        "m4_1 = -2.5\n",
        "m4_2 = -1.4\n",
        "b4 = -5.6\n",
        "learning_rate = 0.001\n",
        "N = len(X)\n",
        "for iter in range(0, 1000):\n",
        "  curr_loss = 0\n",
        "  for i in range(0, N1):\n",
        "    p = 1 / (1 + math.exp(- m4_1*X1[i] - m4_2*X2[i] - b4))\n",
        "    if Y[i] == 0:\n",
        "      curr_loss += -math.log(1 - p)\n",
        "    else:\n",
        "      curr_loss += -math.log(p)\n",
        "  curr_loss /= float(N1)\n",
        "  BCEloss3.append(curr_loss)\n",
        "  m4_1, m4_2, b4 = update_weights_BCE(m4_1, m4_2, b4, X1, X2, Y, learning_rate)"
      ],
      "execution_count": 0,
      "outputs": []
    },
    {
      "cell_type": "code",
      "metadata": {
        "id": "zACF-xdOQvsJ",
        "colab_type": "code",
        "outputId": "2d56ed26-817e-412a-ea0a-3c4b07015c7f",
        "colab": {
          "base_uri": "https://localhost:8080/",
          "height": 283
        }
      },
      "source": [
        "index = range(1000)\n",
        "plt.plot(index, BCEloss1, label = 'alpha = 0.00001')\n",
        "plt.plot(index, BCEloss2, label = 'alpha = 0.0001')\n",
        "plt.plot(index, BCEloss3, label = 'alpha  = 0.001')\n",
        "plt.xlabel('Iteration')\n",
        "plt.ylabel('Cost - Binary Cross Entropy')\n",
        "plt.legend(loc = 'best')\n",
        "plt.legend()\n",
        "plt.show()"
      ],
      "execution_count": 88,
      "outputs": [
        {
          "output_type": "display_data",
          "data": {
            "image/png": "[encoded data removed]",
            "text/plain": [
              "<Figure size 432x288 with 1 Axes>"
            ]
          },
          "metadata": {
            "tags": []
          }
        }
      ]
    },
    {
      "cell_type": "markdown",
      "metadata": {
        "id": "jeHbs9FiEENT",
        "colab_type": "text"
      },
      "source": [
        "## 2. Hinge Loss"
      ]
    },
    {
      "cell_type": "code",
      "metadata": {
        "id": "JlhRCsnOUrz1",
        "colab_type": "code",
        "colab": {}
      },
      "source": [
        "# Conerting class labels from 0 to -1 for Hinge Loss\n",
        "Y[Y == 0] = -1"
      ],
      "execution_count": 0,
      "outputs": []
    },
    {
      "cell_type": "code",
      "metadata": {
        "id": "JXrgkoqOrY7N",
        "colab_type": "code",
        "colab": {}
      },
      "source": [
        "def update_weights_Hinge(m1, m2, b, X1, X2, Y, learning_rate):\n",
        "    m1_deriv = 0\n",
        "    m2_deriv = 0\n",
        "    b_deriv = 0\n",
        "    N = len(X1)\n",
        "    for i in range(N):\n",
        "        # Calculate partial derivatives\n",
        "        if Y[i]*(m1*X1[i] + m2*X2[i] + b) <= 1:\n",
        "          m1_deriv += -X1[i] * Y[i]\n",
        "          m2_deriv += -X2[i] * Y[i]\n",
        "          b_deriv += -Y[i]\n",
        "        # else derivatives are zero\n",
        "\n",
        "    # We subtract because the derivatives point in direction of steepest ascent\n",
        "    m1 -= (m1_deriv / float(N)) * learning_rate\n",
        "    m2 -= (m2_deriv / float(N)) * learning_rate\n",
        "    b -= (b_deriv / float(N)) * learning_rate\n",
        "\n",
        "    return m1, m2, b"
      ],
      "execution_count": 0,
      "outputs": []
    },
    {
      "cell_type": "code",
      "metadata": {
        "id": "sR5qR77lsSRH",
        "colab_type": "code",
        "colab": {}
      },
      "source": [
        "Hingeloss1 = []\n",
        "m5_1 = 0.3\n",
        "m5_2 = 0.3\n",
        "b5 = -0.2\n",
        "learning_rate = 0.001\n",
        "for iter in range(0, 2000):\n",
        "  curr_loss = 0\n",
        "  for i in range(0, N1):\n",
        "    if Y[i]* (m5_1*X1[i] + m5_2*X2[i] + b5) <= 1:\n",
        "      curr_loss += 1 - (Y[i]* (m5_1*X1[i] + m5_2*X2[i] + b5))\n",
        "      \n",
        "  curr_loss /= float(N1)\n",
        "  Hingeloss1.append(curr_loss)\n",
        "  m5_1, m5_2, b5 = update_weights_Hinge(m5_1, m5_2, b5, X1, X2, Y, learning_rate)"
      ],
      "execution_count": 0,
      "outputs": []
    },
    {
      "cell_type": "code",
      "metadata": {
        "id": "DVx1uO3rhDsV",
        "colab_type": "code",
        "colab": {}
      },
      "source": [
        "Hingeloss2 = []\n",
        "m5_1 = 0.3\n",
        "m5_2 = 0.3\n",
        "b5 = -0.2\n",
        "learning_rate = 0.01\n",
        "for iter in range(0, 2000):\n",
        "  curr_loss = 0\n",
        "  for i in range(0, N1):\n",
        "    if Y[i]* (m5_1*X1[i] + m5_2*X2[i] + b5) <= 1:\n",
        "      curr_loss += 1 - (Y[i]* (m5_1*X1[i] + m5_2*X2[i] + b5))\n",
        "      \n",
        "  curr_loss /= float(N1)\n",
        "  Hingeloss2.append(curr_loss)\n",
        "  m5_1, m5_2, b5 = update_weights_Hinge(m5_1, m5_2, b5, X1, X2, Y, learning_rate)"
      ],
      "execution_count": 0,
      "outputs": []
    },
    {
      "cell_type": "code",
      "metadata": {
        "id": "TgLAsSqqhKWr",
        "colab_type": "code",
        "colab": {}
      },
      "source": [
        "Hingeloss3 = []\n",
        "m5_1 = 0.3\n",
        "m5_2 = 0.3\n",
        "b5 = -0.2\n",
        "learning_rate = 0.1\n",
        "N1 = len(X1)\n",
        "for iter in range(0, 2000):\n",
        "  curr_loss = 0\n",
        "  for i in range(0, N):\n",
        "    if Y[i]* (m5_1*X1[i] + m5_2*X2[i] + b5) <= 1:\n",
        "      curr_loss += 1 - (Y[i]* (m5_1*X1[i] + m5_2*X2[i] + b5))\n",
        "      \n",
        "  curr_loss /= float(N1)\n",
        "  Hingeloss3.append(curr_loss)\n",
        "  m5_1, m5_2, b5 = update_weights_Hinge(m5_1, m5_2, b5, X1, X2, Y, learning_rate)"
      ],
      "execution_count": 0,
      "outputs": []
    },
    {
      "cell_type": "code",
      "metadata": {
        "id": "RDAlWWTihZgu",
        "colab_type": "code",
        "outputId": "fc151c1a-c1ab-4a4f-b648-9f5ea69f005f",
        "colab": {
          "base_uri": "https://localhost:8080/",
          "height": 283
        }
      },
      "source": [
        "index = range(2000)\n",
        "plt.plot(index, Hingeloss1, label = 'alpha = 0.001')\n",
        "plt.plot(index, Hingeloss2, label = 'alpha = 0.01')\n",
        "plt.plot(index, Hingeloss3, label = 'alpha  = 0.1')\n",
        "plt.xlabel('Iteration')\n",
        "plt.ylabel('Cost - Hinge Loss')\n",
        "plt.legend(loc = 'best')\n",
        "plt.legend()\n",
        "plt.show()"
      ],
      "execution_count": 94,
      "outputs": [
        {
          "output_type": "display_data",
          "data": {
            "image/png": "[encoded data removed]",
            "text/plain": [
              "<Figure size 432x288 with 1 Axes>"
            ]
          },
          "metadata": {
            "tags": []
          }
        }
      ]
    },
    {
      "cell_type": "markdown",
      "metadata": {
        "id": "BCc7Gw4Q4apa",
        "colab_type": "text"
      },
      "source": [
        "# Multi-Class Classification Loss"
      ]
    },
    {
      "cell_type": "code",
      "metadata": {
        "id": "dcCrBg5e4Zx2",
        "colab_type": "code",
        "outputId": "9aecfccb-490c-471c-c2ea-fe86ee540281",
        "colab": {
          "base_uri": "https://localhost:8080/",
          "height": 1105
        }
      },
      "source": [
        "from sklearn.datasets import load_iris\n",
        "iris_dataset = load_iris()\n",
        "print(iris_dataset.feature_names)\n",
        "print(iris_dataset.DESCR)"
      ],
      "execution_count": 95,
      "outputs": [
        {
          "output_type": "stream",
          "text": [
            "['sepal length (cm)', 'sepal width (cm)', 'petal length (cm)', 'petal width (cm)']\n",
            ".. _iris_dataset:\n",
            "\n",
            "Iris plants dataset\n",
            "--------------------\n",
            "\n",
            "**Data Set Characteristics:**\n",
            "\n",
            "    :Number of Instances: 150 (50 in each of three classes)\n",
            "    :Number of Attributes: 4 numeric, predictive attributes and the class\n",
            "    :Attribute Information:\n",
            "        - sepal length in cm\n",
            "        - sepal width in cm\n",
            "        - petal length in cm\n",
            "        - petal width in cm\n",
            "        - class:\n",
            "                - Iris-Setosa\n",
            "                - Iris-Versicolour\n",
            "                - Iris-Virginica\n",
            "                \n",
            "    :Summary Statistics:\n",
            "\n",
            "    ============== ==== ==== ======= ===== ====================\n",
            "                    Min  Max   Mean    SD   Class Correlation\n",
            "    ============== ==== ==== ======= ===== ====================\n",
            "    sepal length:   4.3  7.9   5.84   0.83    0.7826\n",
            "    sepal width:    2.0  4.4   3.05   0.43   -0.4194\n",
            "    petal length:   1.0  6.9   3.76   1.76    0.9490  (high!)\n",
            "    petal width:    0.1  2.5   1.20   0.76    0.9565  (high!)\n",
            "    ============== ==== ==== ======= ===== ====================\n",
            "\n",
            "    :Missing Attribute Values: None\n",
            "    :Class Distribution: 33.3% for each of 3 classes.\n",
            "    :Creator: R.A. Fisher\n",
            "    :Donor: Michael Marshall (MARSHALL%PLU@io.arc.nasa.gov)\n",
            "    :Date: July, 1988\n",
            "\n",
            "The famous Iris database, first used by Sir R.A. Fisher. The dataset is taken\n",
            "from Fisher's paper. Note that it's the same as in R, but not as in the UCI\n",
            "Machine Learning Repository, which has two wrong data points.\n",
            "\n",
            "This is perhaps the best known database to be found in the\n",
            "pattern recognition literature.  Fisher's paper is a classic in the field and\n",
            "is referenced frequently to this day.  (See Duda & Hart, for example.)  The\n",
            "data set contains 3 classes of 50 instances each, where each class refers to a\n",
            "type of iris plant.  One class is linearly separable from the other 2; the\n",
            "latter are NOT linearly separable from each other.\n",
            "\n",
            ".. topic:: References\n",
            "\n",
            "   - Fisher, R.A. \"The use of multiple measurements in taxonomic problems\"\n",
            "     Annual Eugenics, 7, Part II, 179-188 (1936); also in \"Contributions to\n",
            "     Mathematical Statistics\" (John Wiley, NY, 1950).\n",
            "   - Duda, R.O., & Hart, P.E. (1973) Pattern Classification and Scene Analysis.\n",
            "     (Q327.D83) John Wiley & Sons.  ISBN 0-471-22361-1.  See page 218.\n",
            "   - Dasarathy, B.V. (1980) \"Nosing Around the Neighborhood: A New System\n",
            "     Structure and Classification Rule for Recognition in Partially Exposed\n",
            "     Environments\".  IEEE Transactions on Pattern Analysis and Machine\n",
            "     Intelligence, Vol. PAMI-2, No. 1, 67-71.\n",
            "   - Gates, G.W. (1972) \"The Reduced Nearest Neighbor Rule\".  IEEE Transactions\n",
            "     on Information Theory, May 1972, 431-433.\n",
            "   - See also: 1988 MLC Proceedings, 54-64.  Cheeseman et al\"s AUTOCLASS II\n",
            "     conceptual clustering system finds 3 classes in the data.\n",
            "   - Many, many more ...\n"
          ],
          "name": "stdout"
        }
      ]
    },
    {
      "cell_type": "code",
      "metadata": {
        "id": "P7uQVVSr8Ayt",
        "colab_type": "code",
        "outputId": "39f30808-dfd6-449a-f1fb-34d78cc04dec",
        "colab": {
          "base_uri": "https://localhost:8080/",
          "height": 34
        }
      },
      "source": [
        "iris_dataset.target_names"
      ],
      "execution_count": 96,
      "outputs": [
        {
          "output_type": "execute_result",
          "data": {
            "text/plain": [
              "array(['setosa', 'versicolor', 'virginica'], dtype='<U10')"
            ]
          },
          "metadata": {
            "tags": []
          },
          "execution_count": 96
        }
      ]
    },
    {
      "cell_type": "code",
      "metadata": {
        "id": "uucwPlgN71ek",
        "colab_type": "code",
        "outputId": "a3c43ba8-9e33-475e-dc68-24456f87c562",
        "colab": {
          "base_uri": "https://localhost:8080/",
          "height": 153
        }
      },
      "source": [
        "data2 = pd.DataFrame(iris_dataset.data, columns=iris_dataset.feature_names)\n",
        "data2['Class'] = iris_dataset.target\n",
        "print(data2.head())"
      ],
      "execution_count": 97,
      "outputs": [
        {
          "output_type": "stream",
          "text": [
            "   sepal length (cm)  sepal width (cm)  ...  petal width (cm)  Class\n",
            "0                5.1               3.5  ...               0.2      0\n",
            "1                4.9               3.0  ...               0.2      0\n",
            "2                4.7               3.2  ...               0.2      0\n",
            "3                4.6               3.1  ...               0.2      0\n",
            "4                5.0               3.6  ...               0.2      0\n",
            "\n",
            "[5 rows x 5 columns]\n"
          ],
          "name": "stdout"
        }
      ]
    },
    {
      "cell_type": "code",
      "metadata": {
        "id": "WrrkKozw8WSK",
        "colab_type": "code",
        "outputId": "b224d525-c68e-4878-b4db-e7cf3edd74c2",
        "colab": {
          "base_uri": "https://localhost:8080/",
          "height": 283
        }
      },
      "source": [
        "plt.scatter(data2['sepal length (cm)'], data2['petal width (cm)'], c = data2['Class'])\n",
        "setosa = plt.scatter(data2[data2['Class'] == 0]['sepal length (cm)'], data2[data2['Class'] == 0]['petal width (cm)'], color = 'purple')\n",
        "versicolor = plt.scatter(data2[data2['Class'] == 1]['sepal length (cm)'], data2[data2['Class'] == 1]['petal width (cm)'], color = 'yellow')\n",
        "virginica = plt.scatter(data2[data2['Class'] == 2]['sepal length (cm)'], data2[data2['Class'] == 2]['petal width (cm)'], color = 'blue')\n",
        "plt.legend((setosa, versicolor, virginica),\n",
        "           ('Setosa', 'Versicolor', 'Virginica'),\n",
        "           scatterpoints=1,\n",
        "           loc='best',\n",
        "           )\n",
        "plt.xlabel('Sepal length (cm)')\n",
        "plt.ylabel('Petal width (cm)')\n",
        "plt.show()"
      ],
      "execution_count": 98,
      "outputs": [
        {
          "output_type": "display_data",
          "data": {
            "image/png": "[encoded data removed]",
            "text/plain": [
              "<Figure size 432x288 with 1 Axes>"
            ]
          },
          "metadata": {
            "tags": []
          }
        }
      ]
    },
    {
      "cell_type": "code",
      "metadata": {
        "id": "8N898wupGUfA",
        "colab_type": "code",
        "colab": {
          "base_uri": "https://localhost:8080/",
          "height": 51
        },
        "outputId": "69f45d2e-aff1-4271-e06b-bdf9bafc3530"
      },
      "source": [
        "dataX = data2.loc[:, ['sepal length (cm)', 'petal width (cm)']]\n",
        "target = data2['Class'].as_matrix().reshape(-1, 1)\n",
        "N2 = len(dataX)"
      ],
      "execution_count": 99,
      "outputs": [
        {
          "output_type": "stream",
          "text": [
            "/usr/local/lib/python3.6/dist-packages/ipykernel_launcher.py:2: FutureWarning: Method .as_matrix will be removed in a future version. Use .values instead.\n",
            "  \n"
          ],
          "name": "stderr"
        }
      ]
    },
    {
      "cell_type": "code",
      "metadata": {
        "id": "PlLOHJSe-FmT",
        "colab_type": "code",
        "colab": {}
      },
      "source": [
        "# We scale the values because otherwise the parameters will be very small\n",
        "from sklearn.preprocessing import MinMaxScaler\n",
        "scaler = MinMaxScaler()\n",
        "dataX = scaler.fit_transform(dataX)"
      ],
      "execution_count": 0,
      "outputs": []
    },
    {
      "cell_type": "code",
      "metadata": {
        "id": "PAgtGQnFGxH-",
        "colab_type": "code",
        "outputId": "337c84cf-e240-4c4d-89fc-2694938409ac",
        "colab": {
          "base_uri": "https://localhost:8080/",
          "height": 105
        }
      },
      "source": [
        "from sklearn.preprocessing import LabelEncoder\n",
        "from keras.utils import np_utils\n",
        "enc = LabelEncoder()\n",
        "enc.fit(target)\n",
        "enc_y = enc.transform(target)\n",
        "# convert integers to dummy variables (i.e. one hot encoded)\n",
        "dummy_y = np_utils.to_categorical(enc_y)"
      ],
      "execution_count": 101,
      "outputs": [
        {
          "output_type": "stream",
          "text": [
            "/usr/local/lib/python3.6/dist-packages/sklearn/preprocessing/label.py:219: DataConversionWarning: A column-vector y was passed when a 1d array was expected. Please change the shape of y to (n_samples, ), for example using ravel().\n",
            "  y = column_or_1d(y, warn=True)\n",
            "/usr/local/lib/python3.6/dist-packages/sklearn/preprocessing/label.py:252: DataConversionWarning: A column-vector y was passed when a 1d array was expected. Please change the shape of y to (n_samples, ), for example using ravel().\n",
            "  y = column_or_1d(y, warn=True)\n"
          ],
          "name": "stderr"
        }
      ]
    },
    {
      "cell_type": "code",
      "metadata": {
        "id": "gxEAtDb7XTSd",
        "colab_type": "code",
        "colab": {}
      },
      "source": [
        "from keras.models import Sequential\n",
        "from keras.layers import Dense\n",
        "from keras.optimizers import SGD"
      ],
      "execution_count": 0,
      "outputs": []
    },
    {
      "cell_type": "code",
      "metadata": {
        "id": "Ir22lTS3aJJy",
        "colab_type": "code",
        "colab": {}
      },
      "source": [
        "# set seed for reproducible results\n",
        "np.random.seed(33)"
      ],
      "execution_count": 0,
      "outputs": []
    },
    {
      "cell_type": "markdown",
      "metadata": {
        "id": "ntlHGBX5-Jub",
        "colab_type": "text"
      },
      "source": [
        "## 1. Multi Class Cross Entropy Loss"
      ]
    },
    {
      "cell_type": "code",
      "metadata": {
        "id": "db-z6WcXEwSx",
        "colab_type": "code",
        "colab": {}
      },
      "source": [
        "# alpha = 0.0001 as given in the lr parameter in SGD() optimizer\n",
        "\n",
        "# build the model\n",
        "model_alpha1 = Sequential()\n",
        "model_alpha1.add(Dense(50, input_dim=2, activation='relu'))\n",
        "model_alpha1.add(Dense(3, activation='softmax'))\n",
        "\n",
        "# compile the model\n",
        "opt_alpha1 = SGD(lr=0.001, momentum=0.9)\n",
        "model_alpha1.compile(loss='categorical_crossentropy', optimizer=opt_alpha1, metrics=['accuracy'])\n",
        "\n",
        "# fit the model\n",
        "history_alpha1 = model_alpha1.fit(dataX, dummy_y, validation_data=(dataX, dummy_y), epochs=200, verbose=0)"
      ],
      "execution_count": 0,
      "outputs": []
    },
    {
      "cell_type": "code",
      "metadata": {
        "id": "AbB118IXE8C7",
        "colab_type": "code",
        "colab": {}
      },
      "source": [
        "model_alpha2 = Sequential()\n",
        "model_alpha2.add(Dense(50, input_dim=2, activation='relu'))\n",
        "model_alpha2.add(Dense(3, activation='softmax'))\n",
        "opt_alpha2 = SGD(lr=0.01, momentum=0.9)\n",
        "model_alpha2.compile(loss='categorical_crossentropy', optimizer=opt_alpha1, metrics=['accuracy'])\n",
        "history_alpha2 = model_alpha2.fit(dataX, dummy_y, validation_data=(dataX, dummy_y), epochs=200, verbose=0)"
      ],
      "execution_count": 0,
      "outputs": []
    },
    {
      "cell_type": "code",
      "metadata": {
        "id": "zFffqGxIFEgl",
        "colab_type": "code",
        "colab": {}
      },
      "source": [
        "model_alpha3 = Sequential()\n",
        "model_alpha3.add(Dense(50, input_dim=2, activation='relu'))\n",
        "model_alpha3.add(Dense(3, activation='softmax'))\n",
        "opt_alpha3 = SGD(lr=0.1, momentum=0.9)\n",
        "model_alpha3.compile(loss='categorical_crossentropy', optimizer=opt_alpha1, metrics=['accuracy'])\n",
        "history_alpha3 = model_alpha3.fit(dataX, dummy_y, validation_data=(dataX, dummy_y), epochs=200, verbose=0)"
      ],
      "execution_count": 0,
      "outputs": []
    },
    {
      "cell_type": "code",
      "metadata": {
        "id": "xqA1ymrVHdAj",
        "colab_type": "code",
        "outputId": "f0f2ebb2-7ed7-4411-8ac6-14ae0f39b7fa",
        "colab": {
          "base_uri": "https://localhost:8080/",
          "height": 283
        }
      },
      "source": [
        "plt.plot(history_alpha1.history['val_loss'], label = 'alpha = 0.001')\n",
        "plt.plot(history_alpha2.history['val_loss'], label = 'alpha = 0.01')\n",
        "plt.plot(history_alpha3.history['val_loss'], label = 'alpha = 0.1')\n",
        "plt.xlabel('Epochs')\n",
        "plt.ylabel('Cost - Multi-Class Cross Entropy Loss')\n",
        "plt.legend(loc = 'best')\n",
        "plt.show()"
      ],
      "execution_count": 141,
      "outputs": [
        {
          "output_type": "display_data",
          "data": {
            "image/png": "[encoded data removed]",
            "text/plain": [
              "<Figure size 432x288 with 1 Axes>"
            ]
          },
          "metadata": {
            "tags": []
          }
        }
      ]
    },
    {
      "cell_type": "code",
      "metadata": {
        "id": "5iAE28rRH4e0",
        "colab_type": "code",
        "outputId": "82a7b641-1205-4ac9-86ab-514958157f08",
        "colab": {
          "base_uri": "https://localhost:8080/",
          "height": 283
        }
      },
      "source": [
        "plt.plot(history_alpha1.history['val_acc'], label = 'alpha = 0.001')\n",
        "plt.plot(history_alpha2.history['val_acc'], label = 'alpha = 0.01')\n",
        "plt.plot(history_alpha3.history['val_acc'], label = 'alpha = 0.1')\n",
        "plt.xlabel('Epochs')\n",
        "plt.ylabel('Accuracy - Multi-Class Cross Entropy Loss')\n",
        "plt.legend(loc = 'best')\n",
        "plt.show()"
      ],
      "execution_count": 142,
      "outputs": [
        {
          "output_type": "display_data",
          "data": {
            "image/png": "[encoded data removed]",
            "text/plain": [
              "<Figure size 432x288 with 1 Axes>"
            ]
          },
          "metadata": {
            "tags": []
          }
        }
      ]
    },
    {
      "cell_type": "markdown",
      "metadata": {
        "id": "Py8jr2VIZtjP",
        "colab_type": "text"
      },
      "source": [
        "## 2. KL Divergence"
      ]
    },
    {
      "cell_type": "code",
      "metadata": {
        "id": "u-m2eWjwUl30",
        "colab_type": "code",
        "colab": {}
      },
      "source": [
        "# alpha = 0.0001 as given in the lr parameter in SGD() optimizer\n",
        "\n",
        "# build the model\n",
        "model_alpha1 = Sequential()\n",
        "model_alpha1.add(Dense(50, input_dim=2, activation='relu'))\n",
        "model_alpha1.add(Dense(3, activation='softmax'))\n",
        "\n",
        "# compile the model\n",
        "opt_alpha1 = SGD(lr=0.001, momentum=0.9)\n",
        "model_alpha1.compile(loss='kullback_leibler_divergence', optimizer=opt_alpha1, metrics=['accuracy'])\n",
        "\n",
        "# fit the model\n",
        "history_alpha1 = model_alpha1.fit(dataX, dummy_y, validation_data=(dataX, dummy_y), epochs=200, verbose=0)"
      ],
      "execution_count": 0,
      "outputs": []
    },
    {
      "cell_type": "code",
      "metadata": {
        "id": "7bO8rkdrU7He",
        "colab_type": "code",
        "colab": {}
      },
      "source": [
        "model_alpha2 = Sequential()\n",
        "model_alpha2.add(Dense(50, input_dim=2, activation='relu'))\n",
        "model_alpha2.add(Dense(3, activation='softmax'))\n",
        "opt_alpha2 = SGD(lr=0.01, momentum=0.9)\n",
        "model_alpha2.compile(loss='kullback_leibler_divergence', optimizer=opt_alpha1, metrics=['accuracy'])\n",
        "history_alpha2 = model_alpha2.fit(dataX, dummy_y, validation_data=(dataX, dummy_y), epochs=200, verbose=0)"
      ],
      "execution_count": 0,
      "outputs": []
    },
    {
      "cell_type": "code",
      "metadata": {
        "id": "5ShFP_bNVAq5",
        "colab_type": "code",
        "colab": {}
      },
      "source": [
        "model_alpha3 = Sequential()\n",
        "model_alpha3.add(Dense(50, input_dim=2, activation='relu'))\n",
        "model_alpha3.add(Dense(3, activation='softmax'))\n",
        "opt_alpha3 = SGD(lr=0.1, momentum=0.9)\n",
        "model_alpha3.compile(loss='kullback_leibler_divergence', optimizer=opt_alpha1, metrics=['accuracy'])\n",
        "history_alpha3 = model_alpha3.fit(dataX, dummy_y, validation_data=(dataX, dummy_y), epochs=200, verbose=0)"
      ],
      "execution_count": 0,
      "outputs": []
    },
    {
      "cell_type": "code",
      "metadata": {
        "id": "d1wqQivFVJjJ",
        "colab_type": "code",
        "colab": {
          "base_uri": "https://localhost:8080/",
          "height": 283
        },
        "outputId": "0c0b644c-591e-4ed2-be66-e6fc2b376ce9"
      },
      "source": [
        "plt.plot(history_alpha1.history['val_loss'], label = 'alpha = 0.001')\n",
        "plt.plot(history_alpha2.history['val_loss'], label = 'alpha = 0.01')\n",
        "plt.plot(history_alpha3.history['val_loss'], label = 'alpha = 0.1')\n",
        "plt.legend(loc = 'best')\n",
        "plt.xlabel('Epochs')\n",
        "plt.ylabel('Cost - KL-Divergence Loss')\n",
        "plt.show()"
      ],
      "execution_count": 146,
      "outputs": [
        {
          "output_type": "display_data",
          "data": {
            "image/png": "[encoded data removed]",
            "text/plain": [
              "<Figure size 432x288 with 1 Axes>"
            ]
          },
          "metadata": {
            "tags": []
          }
        }
      ]
    },
    {
      "cell_type": "code",
      "metadata": {
        "id": "Z4MNeFN9VMQG",
        "colab_type": "code",
        "colab": {
          "base_uri": "https://localhost:8080/",
          "height": 283
        },
        "outputId": "58b50234-5ee6-4ba1-e31f-6b276cf8e795"
      },
      "source": [
        "plt.plot(history_alpha1.history['val_acc'], label = 'alpha = 0.001')\n",
        "plt.plot(history_alpha2.history['val_acc'], label = 'alpha = 0.01')\n",
        "plt.plot(history_alpha3.history['val_acc'], label = 'alpha = 0.1')\n",
        "plt.xlabel('Epochs')\n",
        "plt.ylabel('Accuracy - KL-Divergence Loss')\n",
        "plt.legend(loc = 'best')\n",
        "plt.show()"
      ],
      "execution_count": 149,
      "outputs": [
        {
          "output_type": "display_data",
          "data": {
            "image/png": "[encoded data removed]",
            "text/plain": [
              "<Figure size 432x288 with 1 Axes>"
            ]
          },
          "metadata": {
            "tags": []
          }
        }
      ]
    }
  ]
}